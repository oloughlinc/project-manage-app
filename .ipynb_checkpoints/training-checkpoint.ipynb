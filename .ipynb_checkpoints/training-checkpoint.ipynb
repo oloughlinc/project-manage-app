{
 "cells": [
  {
   "cell_type": "code",
   "execution_count": 32,
   "id": "4145805d",
   "metadata": {},
   "outputs": [],
   "source": [
    "import pandas as pd\n",
    "import seaborn as sns\n",
    "from sklearn import tree\n",
    "from sklearn.metrics import accuracy_score, r2_score\n",
    "from sklearn.model_selection import train_test_split\n",
    "from sklearn.linear_model import LinearRegression"
   ]
  },
  {
   "cell_type": "code",
   "execution_count": 33,
   "id": "fdf75fe3",
   "metadata": {},
   "outputs": [
    {
     "data": {
      "text/html": [
       "<div>\n",
       "<style scoped>\n",
       "    .dataframe tbody tr th:only-of-type {\n",
       "        vertical-align: middle;\n",
       "    }\n",
       "\n",
       "    .dataframe tbody tr th {\n",
       "        vertical-align: top;\n",
       "    }\n",
       "\n",
       "    .dataframe thead th {\n",
       "        text-align: right;\n",
       "    }\n",
       "</style>\n",
       "<table border=\"1\" class=\"dataframe\">\n",
       "  <thead>\n",
       "    <tr style=\"text-align: right;\">\n",
       "      <th></th>\n",
       "      <th>id</th>\n",
       "      <th>title</th>\n",
       "      <th>teamSize</th>\n",
       "      <th>budget</th>\n",
       "      <th>workload</th>\n",
       "      <th>completionTime</th>\n",
       "    </tr>\n",
       "  </thead>\n",
       "  <tbody>\n",
       "    <tr>\n",
       "      <th>0</th>\n",
       "      <td>39</td>\n",
       "      <td>Develop an AI assistant that helps penguins or...</td>\n",
       "      <td>8</td>\n",
       "      <td>37581</td>\n",
       "      <td>5</td>\n",
       "      <td>1</td>\n",
       "    </tr>\n",
       "    <tr>\n",
       "      <th>1</th>\n",
       "      <td>9</td>\n",
       "      <td>Write a program that turns pizza into energy</td>\n",
       "      <td>10</td>\n",
       "      <td>13082</td>\n",
       "      <td>21</td>\n",
       "      <td>2</td>\n",
       "    </tr>\n",
       "    <tr>\n",
       "      <th>2</th>\n",
       "      <td>10</td>\n",
       "      <td>Build a robot that tells jokes to houseplants</td>\n",
       "      <td>5</td>\n",
       "      <td>25229</td>\n",
       "      <td>13</td>\n",
       "      <td>4</td>\n",
       "    </tr>\n",
       "    <tr>\n",
       "      <th>3</th>\n",
       "      <td>49</td>\n",
       "      <td>Write a program that teaches hamsters to play ...</td>\n",
       "      <td>8</td>\n",
       "      <td>40111</td>\n",
       "      <td>1</td>\n",
       "      <td>1</td>\n",
       "    </tr>\n",
       "    <tr>\n",
       "      <th>4</th>\n",
       "      <td>16</td>\n",
       "      <td>Create a website that matches people with thei...</td>\n",
       "      <td>10</td>\n",
       "      <td>35389</td>\n",
       "      <td>13</td>\n",
       "      <td>2</td>\n",
       "    </tr>\n",
       "    <tr>\n",
       "      <th>...</th>\n",
       "      <td>...</td>\n",
       "      <td>...</td>\n",
       "      <td>...</td>\n",
       "      <td>...</td>\n",
       "      <td>...</td>\n",
       "      <td>...</td>\n",
       "    </tr>\n",
       "    <tr>\n",
       "      <th>995</th>\n",
       "      <td>22</td>\n",
       "      <td>Develop an app that predicts the future of the...</td>\n",
       "      <td>6</td>\n",
       "      <td>25619</td>\n",
       "      <td>3</td>\n",
       "      <td>1</td>\n",
       "    </tr>\n",
       "    <tr>\n",
       "      <th>996</th>\n",
       "      <td>55</td>\n",
       "      <td>Create a virtual reality game where players fi...</td>\n",
       "      <td>10</td>\n",
       "      <td>9398</td>\n",
       "      <td>8</td>\n",
       "      <td>1</td>\n",
       "    </tr>\n",
       "    <tr>\n",
       "      <th>997</th>\n",
       "      <td>36</td>\n",
       "      <td>Create a virtual reality game where players ri...</td>\n",
       "      <td>4</td>\n",
       "      <td>12100</td>\n",
       "      <td>13</td>\n",
       "      <td>3</td>\n",
       "    </tr>\n",
       "    <tr>\n",
       "      <th>998</th>\n",
       "      <td>81</td>\n",
       "      <td>Build a device that converts rainbows into music</td>\n",
       "      <td>6</td>\n",
       "      <td>43351</td>\n",
       "      <td>3</td>\n",
       "      <td>1</td>\n",
       "    </tr>\n",
       "    <tr>\n",
       "      <th>999</th>\n",
       "      <td>65</td>\n",
       "      <td>Create an app that helps people find their los...</td>\n",
       "      <td>5</td>\n",
       "      <td>43857</td>\n",
       "      <td>1</td>\n",
       "      <td>1</td>\n",
       "    </tr>\n",
       "  </tbody>\n",
       "</table>\n",
       "<p>1000 rows × 6 columns</p>\n",
       "</div>"
      ],
      "text/plain": [
       "     id                                              title  teamSize  budget  \\\n",
       "0    39  Develop an AI assistant that helps penguins or...         8   37581   \n",
       "1     9       Write a program that turns pizza into energy        10   13082   \n",
       "2    10      Build a robot that tells jokes to houseplants         5   25229   \n",
       "3    49  Write a program that teaches hamsters to play ...         8   40111   \n",
       "4    16  Create a website that matches people with thei...        10   35389   \n",
       "..   ..                                                ...       ...     ...   \n",
       "995  22  Develop an app that predicts the future of the...         6   25619   \n",
       "996  55  Create a virtual reality game where players fi...        10    9398   \n",
       "997  36  Create a virtual reality game where players ri...         4   12100   \n",
       "998  81   Build a device that converts rainbows into music         6   43351   \n",
       "999  65  Create an app that helps people find their los...         5   43857   \n",
       "\n",
       "     workload  completionTime  \n",
       "0           5               1  \n",
       "1          21               2  \n",
       "2          13               4  \n",
       "3           1               1  \n",
       "4          13               2  \n",
       "..        ...             ...  \n",
       "995         3               1  \n",
       "996         8               1  \n",
       "997        13               3  \n",
       "998         3               1  \n",
       "999         1               1  \n",
       "\n",
       "[1000 rows x 6 columns]"
      ]
     },
     "execution_count": 33,
     "metadata": {},
     "output_type": "execute_result"
    }
   ],
   "source": [
    "df = pd.read_json('data/trainingData.json')\n",
    "df"
   ]
  },
  {
   "cell_type": "code",
   "execution_count": 34,
   "id": "e88d7052",
   "metadata": {},
   "outputs": [],
   "source": [
    "predictorValues = pd.get_dummies(df[['budget', 'teamSize', 'workload']])\n",
    "X = predictorValues\n",
    "y = df['completionTime']\n",
    "\n",
    "X_train, X_test, y_train, y_test = train_test_split(X, y, test_size = 0.20)"
   ]
  },
  {
   "cell_type": "code",
   "execution_count": 35,
   "id": "9e7bdbbc",
   "metadata": {},
   "outputs": [],
   "source": [
    "model = LinearRegression() "
   ]
  },
  {
   "cell_type": "code",
   "execution_count": 36,
   "id": "480570de",
   "metadata": {},
   "outputs": [
    {
     "data": {
      "text/html": [
       "<style>#sk-container-id-2 {color: black;background-color: white;}#sk-container-id-2 pre{padding: 0;}#sk-container-id-2 div.sk-toggleable {background-color: white;}#sk-container-id-2 label.sk-toggleable__label {cursor: pointer;display: block;width: 100%;margin-bottom: 0;padding: 0.3em;box-sizing: border-box;text-align: center;}#sk-container-id-2 label.sk-toggleable__label-arrow:before {content: \"▸\";float: left;margin-right: 0.25em;color: #696969;}#sk-container-id-2 label.sk-toggleable__label-arrow:hover:before {color: black;}#sk-container-id-2 div.sk-estimator:hover label.sk-toggleable__label-arrow:before {color: black;}#sk-container-id-2 div.sk-toggleable__content {max-height: 0;max-width: 0;overflow: hidden;text-align: left;background-color: #f0f8ff;}#sk-container-id-2 div.sk-toggleable__content pre {margin: 0.2em;color: black;border-radius: 0.25em;background-color: #f0f8ff;}#sk-container-id-2 input.sk-toggleable__control:checked~div.sk-toggleable__content {max-height: 200px;max-width: 100%;overflow: auto;}#sk-container-id-2 input.sk-toggleable__control:checked~label.sk-toggleable__label-arrow:before {content: \"▾\";}#sk-container-id-2 div.sk-estimator input.sk-toggleable__control:checked~label.sk-toggleable__label {background-color: #d4ebff;}#sk-container-id-2 div.sk-label input.sk-toggleable__control:checked~label.sk-toggleable__label {background-color: #d4ebff;}#sk-container-id-2 input.sk-hidden--visually {border: 0;clip: rect(1px 1px 1px 1px);clip: rect(1px, 1px, 1px, 1px);height: 1px;margin: -1px;overflow: hidden;padding: 0;position: absolute;width: 1px;}#sk-container-id-2 div.sk-estimator {font-family: monospace;background-color: #f0f8ff;border: 1px dotted black;border-radius: 0.25em;box-sizing: border-box;margin-bottom: 0.5em;}#sk-container-id-2 div.sk-estimator:hover {background-color: #d4ebff;}#sk-container-id-2 div.sk-parallel-item::after {content: \"\";width: 100%;border-bottom: 1px solid gray;flex-grow: 1;}#sk-container-id-2 div.sk-label:hover label.sk-toggleable__label {background-color: #d4ebff;}#sk-container-id-2 div.sk-serial::before {content: \"\";position: absolute;border-left: 1px solid gray;box-sizing: border-box;top: 0;bottom: 0;left: 50%;z-index: 0;}#sk-container-id-2 div.sk-serial {display: flex;flex-direction: column;align-items: center;background-color: white;padding-right: 0.2em;padding-left: 0.2em;position: relative;}#sk-container-id-2 div.sk-item {position: relative;z-index: 1;}#sk-container-id-2 div.sk-parallel {display: flex;align-items: stretch;justify-content: center;background-color: white;position: relative;}#sk-container-id-2 div.sk-item::before, #sk-container-id-2 div.sk-parallel-item::before {content: \"\";position: absolute;border-left: 1px solid gray;box-sizing: border-box;top: 0;bottom: 0;left: 50%;z-index: -1;}#sk-container-id-2 div.sk-parallel-item {display: flex;flex-direction: column;z-index: 1;position: relative;background-color: white;}#sk-container-id-2 div.sk-parallel-item:first-child::after {align-self: flex-end;width: 50%;}#sk-container-id-2 div.sk-parallel-item:last-child::after {align-self: flex-start;width: 50%;}#sk-container-id-2 div.sk-parallel-item:only-child::after {width: 0;}#sk-container-id-2 div.sk-dashed-wrapped {border: 1px dashed gray;margin: 0 0.4em 0.5em 0.4em;box-sizing: border-box;padding-bottom: 0.4em;background-color: white;}#sk-container-id-2 div.sk-label label {font-family: monospace;font-weight: bold;display: inline-block;line-height: 1.2em;}#sk-container-id-2 div.sk-label-container {text-align: center;}#sk-container-id-2 div.sk-container {/* jupyter's `normalize.less` sets `[hidden] { display: none; }` but bootstrap.min.css set `[hidden] { display: none !important; }` so we also need the `!important` here to be able to override the default hidden behavior on the sphinx rendered scikit-learn.org. See: https://github.com/scikit-learn/scikit-learn/issues/21755 */display: inline-block !important;position: relative;}#sk-container-id-2 div.sk-text-repr-fallback {display: none;}</style><div id=\"sk-container-id-2\" class=\"sk-top-container\"><div class=\"sk-text-repr-fallback\"><pre>LinearRegression()</pre><b>In a Jupyter environment, please rerun this cell to show the HTML representation or trust the notebook. <br />On GitHub, the HTML representation is unable to render, please try loading this page with nbviewer.org.</b></div><div class=\"sk-container\" hidden><div class=\"sk-item\"><div class=\"sk-estimator sk-toggleable\"><input class=\"sk-toggleable__control sk-hidden--visually\" id=\"sk-estimator-id-2\" type=\"checkbox\" checked><label for=\"sk-estimator-id-2\" class=\"sk-toggleable__label sk-toggleable__label-arrow\">LinearRegression</label><div class=\"sk-toggleable__content\"><pre>LinearRegression()</pre></div></div></div></div></div>"
      ],
      "text/plain": [
       "LinearRegression()"
      ]
     },
     "execution_count": 36,
     "metadata": {},
     "output_type": "execute_result"
    }
   ],
   "source": [
    "model.fit(X_train, y_train)"
   ]
  },
  {
   "cell_type": "code",
   "execution_count": 37,
   "id": "38c8f392",
   "metadata": {},
   "outputs": [
    {
     "data": {
      "text/plain": [
       "array([ 2.80903932e-02,  6.93536879e+00,  2.86655978e+00,  1.76666312e+00,\n",
       "       -1.54770676e+00,  2.41024320e+00, -1.78934029e+00,  8.60441669e-01,\n",
       "        6.84280602e-01,  1.91109285e+00,  6.67710348e+00,  2.25789610e+00,\n",
       "        3.56521139e+00,  5.53944492e+00,  2.67870716e+00,  1.66852316e-01,\n",
       "       -5.51939637e-01,  2.18786171e+00,  2.38590623e+00,  2.55063746e+00,\n",
       "        2.12085932e+00,  3.44109251e+00,  1.04615716e+00,  1.12155744e+00,\n",
       "        1.05674964e+00,  1.91353177e-01, -3.65602677e-02,  6.69890681e+00,\n",
       "        6.40843774e+00,  3.35913025e+00,  5.57869762e+00,  8.02153746e-01,\n",
       "        2.89696693e+00,  8.25123058e+00,  1.90624035e+00,  8.85650334e+00,\n",
       "        1.72326264e+00,  2.70228009e+00,  1.13346780e+00,  3.62537956e+00,\n",
       "        4.41935969e+00,  2.11332514e+00, -6.81138980e-01, -2.67839862e-01,\n",
       "       -4.83856199e-01,  2.01695360e+00, -1.44613983e+00,  3.64244587e+00,\n",
       "        7.49889508e+00,  1.65402108e+00,  3.89400734e+00,  2.00481298e+00,\n",
       "        3.93283526e+00,  8.57441236e+00,  2.84407107e-01,  6.26382220e+00,\n",
       "        5.46308728e+00,  3.21279378e+00,  6.46544327e+00,  2.31759482e+00,\n",
       "        3.04616898e+00,  8.70808094e+00,  5.73279179e+00,  3.74995023e+00,\n",
       "       -1.78444588e+00,  2.07063520e+00,  3.12858355e+00,  6.48659791e+00,\n",
       "        1.44896495e+00, -7.84977757e-01,  1.13350143e+00, -7.00563638e-01,\n",
       "        6.15856121e+00,  2.30078757e+00,  1.53624495e+00,  1.67909763e+00,\n",
       "        3.72286680e+00,  4.09300425e+00, -9.80984704e-01, -4.11729009e-01,\n",
       "       -5.89642230e-01,  1.39101175e+00,  1.10543709e+00,  4.97313989e-01,\n",
       "        2.70193448e+00,  4.09276074e+00, -1.39419490e+00,  5.68344458e+00,\n",
       "       -3.11789968e-01,  3.26330153e+00,  7.21671772e+00,  4.28840729e-01,\n",
       "        3.02052318e+00,  2.00515853e+00, -1.03172692e+00, -3.40487769e-01,\n",
       "        1.36580418e+00,  3.57781088e+00,  9.09693423e+00,  8.35602007e-01,\n",
       "        6.56710733e+00,  2.09217712e+00,  1.88187695e+00,  8.34278491e+00,\n",
       "        3.90469117e+00, -4.88190405e-01,  2.39342709e+00,  8.27153030e-01,\n",
       "       -1.14165225e+00,  2.58566240e+00,  3.01303761e+00,  7.22388010e+00,\n",
       "       -4.28082236e-01,  4.09982535e+00,  2.65373890e+00,  4.96595706e+00,\n",
       "        4.01672897e+00,  1.50945650e+00,  5.22895506e+00,  1.54537809e+00,\n",
       "        2.91592903e+00,  1.15024843e+00, -7.26966986e-02, -7.12722059e-03,\n",
       "       -5.38737777e-01,  2.26752797e+00, -7.97306788e-01, -6.31027545e-01,\n",
       "        1.32632555e+00,  2.15299869e+00,  8.27060034e-01,  2.20229469e+00,\n",
       "        5.51086910e+00, -1.02889244e+00,  2.90813771e+00,  4.21182105e+00,\n",
       "        2.12589100e+00,  2.66437845e+00,  4.61009119e+00, -2.51956457e-01,\n",
       "        7.20934731e+00,  1.89933740e+00,  2.02968818e+00, -1.53520662e-03,\n",
       "       -6.98986649e-01,  1.37397411e+00,  1.49320722e+00,  2.54834319e+00,\n",
       "        5.05416269e+00,  6.40587307e+00,  3.39417742e+00,  3.21288696e+00,\n",
       "        1.60188118e+00, -1.37001935e-01, -6.75905702e-01,  2.78597470e+00,\n",
       "        1.60079350e+00, -1.93473561e-01,  1.00281141e+00,  5.71802014e-01,\n",
       "       -1.66891548e+00,  1.73052427e+00,  2.13500446e+00,  6.69754486e+00,\n",
       "        5.47404583e+00,  4.38999320e+00,  3.13662914e+00,  6.62296123e+00,\n",
       "        1.25139438e+00,  3.70709181e+00,  2.64563572e+00,  4.20231580e+00,\n",
       "       -2.29163545e+00,  2.39213393e+00,  1.59305147e-01,  1.18782707e+00,\n",
       "        2.91755443e+00,  8.48544498e-01,  4.06179937e+00,  1.57615315e+00,\n",
       "       -9.21064758e-01,  3.63735648e+00,  2.88688370e+00,  3.16629034e+00,\n",
       "        2.46991053e+00,  2.65480421e+00,  4.82841275e+00,  6.98900161e+00,\n",
       "        2.01194421e+00, -2.06833501e+00,  3.36601772e+00,  7.87817687e+00,\n",
       "        4.36746992e+00,  5.75890226e-01, -2.36307581e-01,  7.93685212e-01,\n",
       "        2.18809452e+00,  4.04435222e+00,  5.68186759e+00,  1.51019805e-01])"
      ]
     },
     "execution_count": 37,
     "metadata": {},
     "output_type": "execute_result"
    }
   ],
   "source": [
    "predict = model.predict(X_test )\n",
    "predict"
   ]
  },
  {
   "cell_type": "code",
   "execution_count": 39,
   "id": "d49518f4",
   "metadata": {},
   "outputs": [
    {
     "ename": "ValueError",
     "evalue": "Classification metrics can't handle a mix of multiclass and continuous targets",
     "output_type": "error",
     "traceback": [
      "\u001b[1;31m---------------------------------------------------------------------------\u001b[0m",
      "\u001b[1;31mValueError\u001b[0m                                Traceback (most recent call last)",
      "Cell \u001b[1;32mIn[39], line 1\u001b[0m\n\u001b[1;32m----> 1\u001b[0m \u001b[43maccuracy_score\u001b[49m\u001b[43m(\u001b[49m\u001b[43my_test\u001b[49m\u001b[43m,\u001b[49m\u001b[43m \u001b[49m\u001b[43mpredict\u001b[49m\u001b[43m)\u001b[49m\n",
      "File \u001b[1;32m~\\anaconda3\\lib\\site-packages\\sklearn\\utils\\_param_validation.py:192\u001b[0m, in \u001b[0;36mvalidate_params.<locals>.decorator.<locals>.wrapper\u001b[1;34m(*args, **kwargs)\u001b[0m\n\u001b[0;32m    187\u001b[0m validate_parameter_constraints(\n\u001b[0;32m    188\u001b[0m     parameter_constraints, params, caller_name\u001b[38;5;241m=\u001b[39mfunc\u001b[38;5;241m.\u001b[39m\u001b[38;5;18m__qualname__\u001b[39m\n\u001b[0;32m    189\u001b[0m )\n\u001b[0;32m    191\u001b[0m \u001b[38;5;28;01mtry\u001b[39;00m:\n\u001b[1;32m--> 192\u001b[0m     \u001b[38;5;28;01mreturn\u001b[39;00m func(\u001b[38;5;241m*\u001b[39margs, \u001b[38;5;241m*\u001b[39m\u001b[38;5;241m*\u001b[39mkwargs)\n\u001b[0;32m    193\u001b[0m \u001b[38;5;28;01mexcept\u001b[39;00m InvalidParameterError \u001b[38;5;28;01mas\u001b[39;00m e:\n\u001b[0;32m    194\u001b[0m     \u001b[38;5;66;03m# When the function is just a wrapper around an estimator, we allow\u001b[39;00m\n\u001b[0;32m    195\u001b[0m     \u001b[38;5;66;03m# the function to delegate validation to the estimator, but we replace\u001b[39;00m\n\u001b[0;32m    196\u001b[0m     \u001b[38;5;66;03m# the name of the estimator by the name of the function in the error\u001b[39;00m\n\u001b[0;32m    197\u001b[0m     \u001b[38;5;66;03m# message to avoid confusion.\u001b[39;00m\n\u001b[0;32m    198\u001b[0m     msg \u001b[38;5;241m=\u001b[39m re\u001b[38;5;241m.\u001b[39msub(\n\u001b[0;32m    199\u001b[0m         \u001b[38;5;124mr\u001b[39m\u001b[38;5;124m\"\u001b[39m\u001b[38;5;124mparameter of \u001b[39m\u001b[38;5;124m\\\u001b[39m\u001b[38;5;124mw+ must be\u001b[39m\u001b[38;5;124m\"\u001b[39m,\n\u001b[0;32m    200\u001b[0m         \u001b[38;5;124mf\u001b[39m\u001b[38;5;124m\"\u001b[39m\u001b[38;5;124mparameter of \u001b[39m\u001b[38;5;132;01m{\u001b[39;00mfunc\u001b[38;5;241m.\u001b[39m\u001b[38;5;18m__qualname__\u001b[39m\u001b[38;5;132;01m}\u001b[39;00m\u001b[38;5;124m must be\u001b[39m\u001b[38;5;124m\"\u001b[39m,\n\u001b[0;32m    201\u001b[0m         \u001b[38;5;28mstr\u001b[39m(e),\n\u001b[0;32m    202\u001b[0m     )\n",
      "File \u001b[1;32m~\\anaconda3\\lib\\site-packages\\sklearn\\metrics\\_classification.py:221\u001b[0m, in \u001b[0;36maccuracy_score\u001b[1;34m(y_true, y_pred, normalize, sample_weight)\u001b[0m\n\u001b[0;32m    155\u001b[0m \u001b[38;5;124;03m\"\"\"Accuracy classification score.\u001b[39;00m\n\u001b[0;32m    156\u001b[0m \n\u001b[0;32m    157\u001b[0m \u001b[38;5;124;03mIn multilabel classification, this function computes subset accuracy:\u001b[39;00m\n\u001b[1;32m   (...)\u001b[0m\n\u001b[0;32m    217\u001b[0m \u001b[38;5;124;03m0.5\u001b[39;00m\n\u001b[0;32m    218\u001b[0m \u001b[38;5;124;03m\"\"\"\u001b[39;00m\n\u001b[0;32m    220\u001b[0m \u001b[38;5;66;03m# Compute accuracy for each possible representation\u001b[39;00m\n\u001b[1;32m--> 221\u001b[0m y_type, y_true, y_pred \u001b[38;5;241m=\u001b[39m \u001b[43m_check_targets\u001b[49m\u001b[43m(\u001b[49m\u001b[43my_true\u001b[49m\u001b[43m,\u001b[49m\u001b[43m \u001b[49m\u001b[43my_pred\u001b[49m\u001b[43m)\u001b[49m\n\u001b[0;32m    222\u001b[0m check_consistent_length(y_true, y_pred, sample_weight)\n\u001b[0;32m    223\u001b[0m \u001b[38;5;28;01mif\u001b[39;00m y_type\u001b[38;5;241m.\u001b[39mstartswith(\u001b[38;5;124m\"\u001b[39m\u001b[38;5;124mmultilabel\u001b[39m\u001b[38;5;124m\"\u001b[39m):\n",
      "File \u001b[1;32m~\\anaconda3\\lib\\site-packages\\sklearn\\metrics\\_classification.py:95\u001b[0m, in \u001b[0;36m_check_targets\u001b[1;34m(y_true, y_pred)\u001b[0m\n\u001b[0;32m     92\u001b[0m     y_type \u001b[38;5;241m=\u001b[39m {\u001b[38;5;124m\"\u001b[39m\u001b[38;5;124mmulticlass\u001b[39m\u001b[38;5;124m\"\u001b[39m}\n\u001b[0;32m     94\u001b[0m \u001b[38;5;28;01mif\u001b[39;00m \u001b[38;5;28mlen\u001b[39m(y_type) \u001b[38;5;241m>\u001b[39m \u001b[38;5;241m1\u001b[39m:\n\u001b[1;32m---> 95\u001b[0m     \u001b[38;5;28;01mraise\u001b[39;00m \u001b[38;5;167;01mValueError\u001b[39;00m(\n\u001b[0;32m     96\u001b[0m         \u001b[38;5;124m\"\u001b[39m\u001b[38;5;124mClassification metrics can\u001b[39m\u001b[38;5;124m'\u001b[39m\u001b[38;5;124mt handle a mix of \u001b[39m\u001b[38;5;132;01m{0}\u001b[39;00m\u001b[38;5;124m and \u001b[39m\u001b[38;5;132;01m{1}\u001b[39;00m\u001b[38;5;124m targets\u001b[39m\u001b[38;5;124m\"\u001b[39m\u001b[38;5;241m.\u001b[39mformat(\n\u001b[0;32m     97\u001b[0m             type_true, type_pred\n\u001b[0;32m     98\u001b[0m         )\n\u001b[0;32m     99\u001b[0m     )\n\u001b[0;32m    101\u001b[0m \u001b[38;5;66;03m# We can't have more than one value on y_type => The set is no more needed\u001b[39;00m\n\u001b[0;32m    102\u001b[0m y_type \u001b[38;5;241m=\u001b[39m y_type\u001b[38;5;241m.\u001b[39mpop()\n",
      "\u001b[1;31mValueError\u001b[0m: Classification metrics can't handle a mix of multiclass and continuous targets"
     ]
    }
   ],
   "source": [
    "metrics.r2_score(test_y,linear_predicted_rating)\n"
   ]
  },
  {
   "cell_type": "code",
   "execution_count": null,
   "id": "85ba7116",
   "metadata": {},
   "outputs": [],
   "source": []
  },
  {
   "cell_type": "code",
   "execution_count": null,
   "id": "7c2f0739",
   "metadata": {},
   "outputs": [],
   "source": []
  },
  {
   "cell_type": "code",
   "execution_count": null,
   "id": "2cc9900b",
   "metadata": {},
   "outputs": [],
   "source": []
  }
 ],
 "metadata": {
  "kernelspec": {
   "display_name": "Python 3 (ipykernel)",
   "language": "python",
   "name": "python3"
  },
  "language_info": {
   "codemirror_mode": {
    "name": "ipython",
    "version": 3
   },
   "file_extension": ".py",
   "mimetype": "text/x-python",
   "name": "python",
   "nbconvert_exporter": "python",
   "pygments_lexer": "ipython3",
   "version": "3.10.9"
  }
 },
 "nbformat": 4,
 "nbformat_minor": 5
}
