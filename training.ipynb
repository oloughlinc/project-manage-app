{
 "cells": [
  {
   "cell_type": "code",
   "execution_count": 56,
   "id": "733b6176",
   "metadata": {},
   "outputs": [],
   "source": [
    "import pandas as pd\n",
    "import seaborn as sns\n",
    "from sklearn import tree\n",
    "from sklearn.metrics import accuracy_score, r2_score\n",
    "from sklearn.model_selection import train_test_split\n",
    "from sklearn.linear_model import LinearRegression"
   ]
  },
  {
   "cell_type": "code",
   "execution_count": 57,
   "id": "9aff84f1",
   "metadata": {},
   "outputs": [
    {
     "data": {
      "text/html": [
       "<div>\n",
       "<style scoped>\n",
       "    .dataframe tbody tr th:only-of-type {\n",
       "        vertical-align: middle;\n",
       "    }\n",
       "\n",
       "    .dataframe tbody tr th {\n",
       "        vertical-align: top;\n",
       "    }\n",
       "\n",
       "    .dataframe thead th {\n",
       "        text-align: right;\n",
       "    }\n",
       "</style>\n",
       "<table border=\"1\" class=\"dataframe\">\n",
       "  <thead>\n",
       "    <tr style=\"text-align: right;\">\n",
       "      <th></th>\n",
       "      <th>id</th>\n",
       "      <th>title</th>\n",
       "      <th>teamSize</th>\n",
       "      <th>budget</th>\n",
       "      <th>workload</th>\n",
       "      <th>completionTime</th>\n",
       "    </tr>\n",
       "  </thead>\n",
       "  <tbody>\n",
       "    <tr>\n",
       "      <th>0</th>\n",
       "      <td>3</td>\n",
       "      <td>Write a program that turns pizza into energy</td>\n",
       "      <td>4</td>\n",
       "      <td>22196</td>\n",
       "      <td>21</td>\n",
       "      <td>5</td>\n",
       "    </tr>\n",
       "    <tr>\n",
       "      <th>1</th>\n",
       "      <td>87</td>\n",
       "      <td>Develop a software that translates bird songs ...</td>\n",
       "      <td>4</td>\n",
       "      <td>42295</td>\n",
       "      <td>8</td>\n",
       "      <td>2</td>\n",
       "    </tr>\n",
       "    <tr>\n",
       "      <th>2</th>\n",
       "      <td>25</td>\n",
       "      <td>Design a hoverboard powered by solar energy</td>\n",
       "      <td>6</td>\n",
       "      <td>6272</td>\n",
       "      <td>2</td>\n",
       "      <td>1</td>\n",
       "    </tr>\n",
       "    <tr>\n",
       "      <th>3</th>\n",
       "      <td>87</td>\n",
       "      <td>Develop an app that predicts the future of the...</td>\n",
       "      <td>2</td>\n",
       "      <td>47407</td>\n",
       "      <td>3</td>\n",
       "      <td>2</td>\n",
       "    </tr>\n",
       "    <tr>\n",
       "      <th>4</th>\n",
       "      <td>50</td>\n",
       "      <td>Design a time-traveling hat</td>\n",
       "      <td>2</td>\n",
       "      <td>32460</td>\n",
       "      <td>3</td>\n",
       "      <td>2</td>\n",
       "    </tr>\n",
       "    <tr>\n",
       "      <th>...</th>\n",
       "      <td>...</td>\n",
       "      <td>...</td>\n",
       "      <td>...</td>\n",
       "      <td>...</td>\n",
       "      <td>...</td>\n",
       "      <td>...</td>\n",
       "    </tr>\n",
       "    <tr>\n",
       "      <th>995</th>\n",
       "      <td>24</td>\n",
       "      <td>Create a virtual pet that evolves into differe...</td>\n",
       "      <td>2</td>\n",
       "      <td>4250</td>\n",
       "      <td>13</td>\n",
       "      <td>6</td>\n",
       "    </tr>\n",
       "    <tr>\n",
       "      <th>996</th>\n",
       "      <td>79</td>\n",
       "      <td>Write a program that generates infinite pizzas</td>\n",
       "      <td>3</td>\n",
       "      <td>3729</td>\n",
       "      <td>1</td>\n",
       "      <td>1</td>\n",
       "    </tr>\n",
       "    <tr>\n",
       "      <th>997</th>\n",
       "      <td>39</td>\n",
       "      <td>Develop an app that predicts the future of the...</td>\n",
       "      <td>3</td>\n",
       "      <td>7743</td>\n",
       "      <td>21</td>\n",
       "      <td>6</td>\n",
       "    </tr>\n",
       "    <tr>\n",
       "      <th>998</th>\n",
       "      <td>26</td>\n",
       "      <td>Create a virtual reality game where players ri...</td>\n",
       "      <td>4</td>\n",
       "      <td>16062</td>\n",
       "      <td>13</td>\n",
       "      <td>3</td>\n",
       "    </tr>\n",
       "    <tr>\n",
       "      <th>999</th>\n",
       "      <td>33</td>\n",
       "      <td>Create an app that translates baby cries into ...</td>\n",
       "      <td>1</td>\n",
       "      <td>29873</td>\n",
       "      <td>8</td>\n",
       "      <td>6</td>\n",
       "    </tr>\n",
       "  </tbody>\n",
       "</table>\n",
       "<p>1000 rows × 6 columns</p>\n",
       "</div>"
      ],
      "text/plain": [
       "     id                                              title  teamSize  budget  \\\n",
       "0     3       Write a program that turns pizza into energy         4   22196   \n",
       "1    87  Develop a software that translates bird songs ...         4   42295   \n",
       "2    25        Design a hoverboard powered by solar energy         6    6272   \n",
       "3    87  Develop an app that predicts the future of the...         2   47407   \n",
       "4    50                        Design a time-traveling hat         2   32460   \n",
       "..   ..                                                ...       ...     ...   \n",
       "995  24  Create a virtual pet that evolves into differe...         2    4250   \n",
       "996  79     Write a program that generates infinite pizzas         3    3729   \n",
       "997  39  Develop an app that predicts the future of the...         3    7743   \n",
       "998  26  Create a virtual reality game where players ri...         4   16062   \n",
       "999  33  Create an app that translates baby cries into ...         1   29873   \n",
       "\n",
       "     workload  completionTime  \n",
       "0          21               5  \n",
       "1           8               2  \n",
       "2           2               1  \n",
       "3           3               2  \n",
       "4           3               2  \n",
       "..        ...             ...  \n",
       "995        13               6  \n",
       "996         1               1  \n",
       "997        21               6  \n",
       "998        13               3  \n",
       "999         8               6  \n",
       "\n",
       "[1000 rows x 6 columns]"
      ]
     },
     "execution_count": 57,
     "metadata": {},
     "output_type": "execute_result"
    }
   ],
   "source": [
    "df = pd.read_json('data/trainingData.json')\n",
    "df"
   ]
  },
  {
   "cell_type": "code",
   "execution_count": 58,
   "id": "d27f07c0",
   "metadata": {},
   "outputs": [],
   "source": [
    "predictorValues = pd.get_dummies(df[['budget', 'teamSize', 'workload']])\n",
    "X = predictorValues\n",
    "y = df['completionTime']\n",
    "\n",
    "X_train, X_test, y_train, y_test = train_test_split(X, y, test_size = 0.20)"
   ]
  },
  {
   "cell_type": "code",
   "execution_count": 59,
   "id": "d9a846cb",
   "metadata": {},
   "outputs": [],
   "source": [
    "model = LinearRegression() "
   ]
  },
  {
   "cell_type": "code",
   "execution_count": 60,
   "id": "ce9af1db",
   "metadata": {},
   "outputs": [
    {
     "data": {
      "text/html": [
       "<style>#sk-container-id-4 {color: black;background-color: white;}#sk-container-id-4 pre{padding: 0;}#sk-container-id-4 div.sk-toggleable {background-color: white;}#sk-container-id-4 label.sk-toggleable__label {cursor: pointer;display: block;width: 100%;margin-bottom: 0;padding: 0.3em;box-sizing: border-box;text-align: center;}#sk-container-id-4 label.sk-toggleable__label-arrow:before {content: \"▸\";float: left;margin-right: 0.25em;color: #696969;}#sk-container-id-4 label.sk-toggleable__label-arrow:hover:before {color: black;}#sk-container-id-4 div.sk-estimator:hover label.sk-toggleable__label-arrow:before {color: black;}#sk-container-id-4 div.sk-toggleable__content {max-height: 0;max-width: 0;overflow: hidden;text-align: left;background-color: #f0f8ff;}#sk-container-id-4 div.sk-toggleable__content pre {margin: 0.2em;color: black;border-radius: 0.25em;background-color: #f0f8ff;}#sk-container-id-4 input.sk-toggleable__control:checked~div.sk-toggleable__content {max-height: 200px;max-width: 100%;overflow: auto;}#sk-container-id-4 input.sk-toggleable__control:checked~label.sk-toggleable__label-arrow:before {content: \"▾\";}#sk-container-id-4 div.sk-estimator input.sk-toggleable__control:checked~label.sk-toggleable__label {background-color: #d4ebff;}#sk-container-id-4 div.sk-label input.sk-toggleable__control:checked~label.sk-toggleable__label {background-color: #d4ebff;}#sk-container-id-4 input.sk-hidden--visually {border: 0;clip: rect(1px 1px 1px 1px);clip: rect(1px, 1px, 1px, 1px);height: 1px;margin: -1px;overflow: hidden;padding: 0;position: absolute;width: 1px;}#sk-container-id-4 div.sk-estimator {font-family: monospace;background-color: #f0f8ff;border: 1px dotted black;border-radius: 0.25em;box-sizing: border-box;margin-bottom: 0.5em;}#sk-container-id-4 div.sk-estimator:hover {background-color: #d4ebff;}#sk-container-id-4 div.sk-parallel-item::after {content: \"\";width: 100%;border-bottom: 1px solid gray;flex-grow: 1;}#sk-container-id-4 div.sk-label:hover label.sk-toggleable__label {background-color: #d4ebff;}#sk-container-id-4 div.sk-serial::before {content: \"\";position: absolute;border-left: 1px solid gray;box-sizing: border-box;top: 0;bottom: 0;left: 50%;z-index: 0;}#sk-container-id-4 div.sk-serial {display: flex;flex-direction: column;align-items: center;background-color: white;padding-right: 0.2em;padding-left: 0.2em;position: relative;}#sk-container-id-4 div.sk-item {position: relative;z-index: 1;}#sk-container-id-4 div.sk-parallel {display: flex;align-items: stretch;justify-content: center;background-color: white;position: relative;}#sk-container-id-4 div.sk-item::before, #sk-container-id-4 div.sk-parallel-item::before {content: \"\";position: absolute;border-left: 1px solid gray;box-sizing: border-box;top: 0;bottom: 0;left: 50%;z-index: -1;}#sk-container-id-4 div.sk-parallel-item {display: flex;flex-direction: column;z-index: 1;position: relative;background-color: white;}#sk-container-id-4 div.sk-parallel-item:first-child::after {align-self: flex-end;width: 50%;}#sk-container-id-4 div.sk-parallel-item:last-child::after {align-self: flex-start;width: 50%;}#sk-container-id-4 div.sk-parallel-item:only-child::after {width: 0;}#sk-container-id-4 div.sk-dashed-wrapped {border: 1px dashed gray;margin: 0 0.4em 0.5em 0.4em;box-sizing: border-box;padding-bottom: 0.4em;background-color: white;}#sk-container-id-4 div.sk-label label {font-family: monospace;font-weight: bold;display: inline-block;line-height: 1.2em;}#sk-container-id-4 div.sk-label-container {text-align: center;}#sk-container-id-4 div.sk-container {/* jupyter's `normalize.less` sets `[hidden] { display: none; }` but bootstrap.min.css set `[hidden] { display: none !important; }` so we also need the `!important` here to be able to override the default hidden behavior on the sphinx rendered scikit-learn.org. See: https://github.com/scikit-learn/scikit-learn/issues/21755 */display: inline-block !important;position: relative;}#sk-container-id-4 div.sk-text-repr-fallback {display: none;}</style><div id=\"sk-container-id-4\" class=\"sk-top-container\"><div class=\"sk-text-repr-fallback\"><pre>LinearRegression()</pre><b>In a Jupyter environment, please rerun this cell to show the HTML representation or trust the notebook. <br />On GitHub, the HTML representation is unable to render, please try loading this page with nbviewer.org.</b></div><div class=\"sk-container\" hidden><div class=\"sk-item\"><div class=\"sk-estimator sk-toggleable\"><input class=\"sk-toggleable__control sk-hidden--visually\" id=\"sk-estimator-id-4\" type=\"checkbox\" checked><label for=\"sk-estimator-id-4\" class=\"sk-toggleable__label sk-toggleable__label-arrow\">LinearRegression</label><div class=\"sk-toggleable__content\"><pre>LinearRegression()</pre></div></div></div></div></div>"
      ],
      "text/plain": [
       "LinearRegression()"
      ]
     },
     "execution_count": 60,
     "metadata": {},
     "output_type": "execute_result"
    }
   ],
   "source": [
    "model.fit(X_train, y_train)"
   ]
  },
  {
   "cell_type": "code",
   "execution_count": 61,
   "id": "547ea03d",
   "metadata": {},
   "outputs": [
    {
     "data": {
      "text/plain": [
       "array([ 2.52335820e+00,  7.60064181e-02,  7.54220010e-01,  4.30810929e-01,\n",
       "        1.41402707e+00,  1.69607859e+00,  8.68778374e-02,  3.32280589e+00,\n",
       "       -2.22250378e-02,  7.91947129e-02,  2.68639585e+00,  2.45252660e+00,\n",
       "        1.04779414e+00,  2.15239928e-03,  2.33037361e+00,  1.69189728e+00,\n",
       "        5.43497632e+00,  3.83341899e+00,  1.05598784e+00,  2.06239568e+00,\n",
       "        6.93550055e-01,  1.43211471e+00,  3.94654923e-01,  1.81219506e+00,\n",
       "        3.28585790e+00,  1.96084400e+00,  1.88054685e+00,  2.39666364e+00,\n",
       "        3.27405603e+00,  5.43405528e+00,  2.82348182e+00, -1.63232573e-01,\n",
       "        3.46904489e+00,  2.12362202e+00,  1.69511114e+00,  2.57554717e+00,\n",
       "        1.96097789e+00,  3.65411901e+00,  3.29841365e+00,  3.62316932e-01,\n",
       "        3.66278507e+00,  1.61732198e+00,  8.03915849e-02,  2.17962357e+00,\n",
       "        7.02829681e-01,  2.48118957e+00,  1.62845242e+00,  3.82579231e-01,\n",
       "        1.99557139e-01, -7.35497335e-01, -1.70374112e-01,  2.33275457e+00,\n",
       "        4.73254315e+00,  6.50299796e+00,  1.39627387e+00,  5.53209181e-01,\n",
       "        1.40063139e+00, -3.71685673e-01,  1.05289037e+00,  1.03299975e+00,\n",
       "        1.26605023e+00, -5.17683203e-01,  2.75881153e+00,  1.03101910e+00,\n",
       "        3.81753470e+00,  2.49144876e+00,  7.90362561e-01,  1.86187188e+00,\n",
       "        6.90482126e-01,  7.81270143e-02,  9.10840453e-02,  2.69680170e+00,\n",
       "        8.89970459e-01,  4.54259259e-01,  4.91526689e+00,  1.75051728e+00,\n",
       "       -1.44443606e-02,  2.77786258e+00,  6.16241059e+00,  3.48300166e+00,\n",
       "        2.81318159e+00,  5.80184306e+00,  1.82844534e+00,  6.85866930e-01,\n",
       "        2.76045378e+00,  1.78541556e+00, -5.11910095e-01,  5.44631262e-01,\n",
       "        1.80358619e+00,  7.36770168e-01,  4.09807901e-01,  4.54360849e-01,\n",
       "        3.54293358e+00,  2.45750516e+00,  4.02660211e+00,  2.12401554e+00,\n",
       "        3.84131539e+00,  2.82877120e+00, -1.53522369e-01,  2.94623530e+00,\n",
       "        4.89955214e+00, -1.64693174e-01,  1.27219875e+00,  1.47359171e+00,\n",
       "        1.78580577e+00,  1.76525650e+00,  3.31886408e+00,  2.88673457e+00,\n",
       "        4.02176147e+00,  2.89861179e+00,  1.09168838e+00,  2.45987266e+00,\n",
       "        5.45208842e+00,  2.46780606e+00,  4.37214381e+00,  4.90972320e+00,\n",
       "        2.48066890e+00,  1.82467240e+00,  1.86971715e+00,  5.43964472e+00,\n",
       "        2.56762387e+00,  1.98510296e-01,  2.04685787e+00,  5.44403124e+00,\n",
       "        4.04075160e-01,  2.57570191e+00,  5.44172832e+00,  5.46813753e-01,\n",
       "        9.21005034e-01,  1.75840426e+00,  3.36711675e-01,  6.95165333e-01,\n",
       "        1.96574183e+00,  1.40267461e+00, -1.61279499e-01,  3.18022124e+00,\n",
       "        1.46659953e+00, -2.99937021e-01,  4.00797894e+00,  5.78881741e+00,\n",
       "        7.40388368e-01,  4.73557536e+00,  3.81769953e+00,  2.53917050e+00,\n",
       "        3.29535551e+00,  2.88627170e+00,  2.58982150e+00,  1.05858275e+00,\n",
       "        7.94257272e-01,  1.51794283e+00,  4.74299341e+00,  6.50680319e+00,\n",
       "        3.66862276e+00,  4.03619017e-01,  2.76702278e+00,  1.16975643e+00,\n",
       "        1.27523028e+00,  1.06429732e+00,  5.61681474e-01,  7.57918019e-02,\n",
       "        1.03906014e+00,  3.47253526e+00,  1.69364650e+00,  1.61787904e+00,\n",
       "        1.09346384e+00,  1.40293094e+00,  9.07730297e-03,  4.55576168e+00,\n",
       "        3.65067843e+00,  2.76351155e+00,  2.18137078e+00,  1.81828302e+00,\n",
       "        1.41419257e+00, -1.55735136e-01,  7.19347665e-01,  2.04846380e+00,\n",
       "        3.66690785e+00,  5.45039437e+00,  4.07946325e-01,  8.11900202e-01,\n",
       "        1.25898404e+00,  5.46308497e-01,  3.58617999e-01,  1.60908785e+00,\n",
       "        2.52455910e+00,  1.76034045e+00,  7.97146181e-01,  6.96917247e-01,\n",
       "       -3.02502324e-01,  4.18136655e+00,  3.17836235e+00,  3.52368675e+00,\n",
       "        1.81210087e+00,  7.63974618e-01,  2.87892564e+00,  8.97693277e-01,\n",
       "        1.51900649e+00,  1.05924011e+00,  6.14910910e+00,  4.55707763e+00])"
      ]
     },
     "execution_count": 61,
     "metadata": {},
     "output_type": "execute_result"
    }
   ],
   "source": [
    "predict = model.predict(X_test )\n",
    "predict"
   ]
  },
  {
   "cell_type": "code",
   "execution_count": 62,
   "id": "b8fa75b3",
   "metadata": {},
   "outputs": [
    {
     "data": {
      "text/plain": [
       "0.5426765509509404"
      ]
     },
     "execution_count": 62,
     "metadata": {},
     "output_type": "execute_result"
    }
   ],
   "source": [
    "r2_score(y_test, predict)"
   ]
  },
  {
   "cell_type": "code",
   "execution_count": null,
   "id": "dbeccd76",
   "metadata": {},
   "outputs": [],
   "source": []
  },
  {
   "cell_type": "code",
   "execution_count": null,
   "id": "c9a82104",
   "metadata": {},
   "outputs": [],
   "source": []
  },
  {
   "cell_type": "code",
   "execution_count": null,
   "id": "247f2995",
   "metadata": {},
   "outputs": [],
   "source": []
  },
  {
   "cell_type": "code",
   "execution_count": null,
   "id": "fd7d7606",
   "metadata": {},
   "outputs": [],
   "source": []
  }
 ],
 "metadata": {
  "kernelspec": {
   "display_name": "Python 3 (ipykernel)",
   "language": "python",
   "name": "python3"
  },
  "language_info": {
   "codemirror_mode": {
    "name": "ipython",
    "version": 3
   },
   "file_extension": ".py",
   "mimetype": "text/x-python",
   "name": "python",
   "nbconvert_exporter": "python",
   "pygments_lexer": "ipython3",
   "version": "3.10.9"
  }
 },
 "nbformat": 4,
 "nbformat_minor": 5
}
