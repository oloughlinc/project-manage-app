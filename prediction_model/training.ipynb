{
 "cells": [
  {
   "cell_type": "code",
   "execution_count": 19,
   "id": "daab8d71",
   "metadata": {},
   "outputs": [],
   "source": [
    "import pandas as pd\n",
    "import seaborn as sns\n",
    "from sklearn import tree\n",
    "from sklearn.metrics import accuracy_score, r2_score\n",
    "from sklearn.model_selection import train_test_split\n",
    "from sklearn.linear_model import LinearRegression"
   ]
  },
  {
   "cell_type": "code",
   "execution_count": 20,
   "id": "03d18239",
   "metadata": {},
   "outputs": [
    {
     "data": {
      "text/html": [
       "<div>\n",
       "<style scoped>\n",
       "    .dataframe tbody tr th:only-of-type {\n",
       "        vertical-align: middle;\n",
       "    }\n",
       "\n",
       "    .dataframe tbody tr th {\n",
       "        vertical-align: top;\n",
       "    }\n",
       "\n",
       "    .dataframe thead th {\n",
       "        text-align: right;\n",
       "    }\n",
       "</style>\n",
       "<table border=\"1\" class=\"dataframe\">\n",
       "  <thead>\n",
       "    <tr style=\"text-align: right;\">\n",
       "      <th></th>\n",
       "      <th>id</th>\n",
       "      <th>title</th>\n",
       "      <th>teamSize</th>\n",
       "      <th>budget</th>\n",
       "      <th>workload</th>\n",
       "      <th>completionTime</th>\n",
       "    </tr>\n",
       "  </thead>\n",
       "  <tbody>\n",
       "    <tr>\n",
       "      <th>0</th>\n",
       "      <td>19</td>\n",
       "      <td>Write a program that generates infinite pizzas</td>\n",
       "      <td>6</td>\n",
       "      <td>33172</td>\n",
       "      <td>2</td>\n",
       "      <td>31</td>\n",
       "    </tr>\n",
       "    <tr>\n",
       "      <th>1</th>\n",
       "      <td>52</td>\n",
       "      <td>Create a website that matches people with thei...</td>\n",
       "      <td>4</td>\n",
       "      <td>45986</td>\n",
       "      <td>2</td>\n",
       "      <td>33</td>\n",
       "    </tr>\n",
       "    <tr>\n",
       "      <th>2</th>\n",
       "      <td>55</td>\n",
       "      <td>Build a robot chef that cooks meals based on mood</td>\n",
       "      <td>8</td>\n",
       "      <td>40389</td>\n",
       "      <td>8</td>\n",
       "      <td>55</td>\n",
       "    </tr>\n",
       "    <tr>\n",
       "      <th>3</th>\n",
       "      <td>84</td>\n",
       "      <td>Build a device that turns water into soda</td>\n",
       "      <td>4</td>\n",
       "      <td>44186</td>\n",
       "      <td>5</td>\n",
       "      <td>50</td>\n",
       "    </tr>\n",
       "    <tr>\n",
       "      <th>4</th>\n",
       "      <td>21</td>\n",
       "      <td>Create an app that translates baby cries into ...</td>\n",
       "      <td>9</td>\n",
       "      <td>26166</td>\n",
       "      <td>8</td>\n",
       "      <td>50</td>\n",
       "    </tr>\n",
       "    <tr>\n",
       "      <th>...</th>\n",
       "      <td>...</td>\n",
       "      <td>...</td>\n",
       "      <td>...</td>\n",
       "      <td>...</td>\n",
       "      <td>...</td>\n",
       "      <td>...</td>\n",
       "    </tr>\n",
       "    <tr>\n",
       "      <th>99995</th>\n",
       "      <td>46</td>\n",
       "      <td>Build a robot that can dance the cha-cha-cha</td>\n",
       "      <td>8</td>\n",
       "      <td>25447</td>\n",
       "      <td>8</td>\n",
       "      <td>60</td>\n",
       "    </tr>\n",
       "    <tr>\n",
       "      <th>99996</th>\n",
       "      <td>76</td>\n",
       "      <td>Build a robot that can dance the cha-cha-cha</td>\n",
       "      <td>1</td>\n",
       "      <td>30916</td>\n",
       "      <td>3</td>\n",
       "      <td>62</td>\n",
       "    </tr>\n",
       "    <tr>\n",
       "      <th>99997</th>\n",
       "      <td>25</td>\n",
       "      <td>Design a time-traveling banana peel</td>\n",
       "      <td>3</td>\n",
       "      <td>41190</td>\n",
       "      <td>8</td>\n",
       "      <td>82</td>\n",
       "    </tr>\n",
       "    <tr>\n",
       "      <th>99998</th>\n",
       "      <td>42</td>\n",
       "      <td>Create a software that translates cat meows in...</td>\n",
       "      <td>10</td>\n",
       "      <td>28401</td>\n",
       "      <td>3</td>\n",
       "      <td>30</td>\n",
       "    </tr>\n",
       "    <tr>\n",
       "      <th>99999</th>\n",
       "      <td>34</td>\n",
       "      <td>Design a flying car powered by fairy dust</td>\n",
       "      <td>2</td>\n",
       "      <td>59761</td>\n",
       "      <td>8</td>\n",
       "      <td>71</td>\n",
       "    </tr>\n",
       "  </tbody>\n",
       "</table>\n",
       "<p>100000 rows × 6 columns</p>\n",
       "</div>"
      ],
      "text/plain": [
       "       id                                              title  teamSize  \\\n",
       "0      19     Write a program that generates infinite pizzas         6   \n",
       "1      52  Create a website that matches people with thei...         4   \n",
       "2      55  Build a robot chef that cooks meals based on mood         8   \n",
       "3      84          Build a device that turns water into soda         4   \n",
       "4      21  Create an app that translates baby cries into ...         9   \n",
       "...    ..                                                ...       ...   \n",
       "99995  46       Build a robot that can dance the cha-cha-cha         8   \n",
       "99996  76       Build a robot that can dance the cha-cha-cha         1   \n",
       "99997  25                Design a time-traveling banana peel         3   \n",
       "99998  42  Create a software that translates cat meows in...        10   \n",
       "99999  34          Design a flying car powered by fairy dust         2   \n",
       "\n",
       "       budget  workload  completionTime  \n",
       "0       33172         2              31  \n",
       "1       45986         2              33  \n",
       "2       40389         8              55  \n",
       "3       44186         5              50  \n",
       "4       26166         8              50  \n",
       "...       ...       ...             ...  \n",
       "99995   25447         8              60  \n",
       "99996   30916         3              62  \n",
       "99997   41190         8              82  \n",
       "99998   28401         3              30  \n",
       "99999   59761         8              71  \n",
       "\n",
       "[100000 rows x 6 columns]"
      ]
     },
     "execution_count": 20,
     "metadata": {},
     "output_type": "execute_result"
    }
   ],
   "source": [
    "df = pd.read_json('../data/trainingData3.json')\n",
    "df"
   ]
  },
  {
   "cell_type": "code",
   "execution_count": 21,
   "id": "c1462ef5",
   "metadata": {},
   "outputs": [],
   "source": [
    "predictorValues = pd.get_dummies(df[['budget', 'teamSize', 'workload']])\n",
    "X = predictorValues\n",
    "y = df['completionTime']\n",
    "\n",
    "X_train, X_test, y_train, y_test = train_test_split(X, y, test_size = 0.20)"
   ]
  },
  {
   "cell_type": "code",
   "execution_count": 22,
   "id": "ea6989ca",
   "metadata": {},
   "outputs": [],
   "source": [
    "model = LinearRegression() "
   ]
  },
  {
   "cell_type": "code",
   "execution_count": 23,
   "id": "cfd0b10c",
   "metadata": {},
   "outputs": [
    {
     "data": {
      "text/html": [
       "<style>#sk-container-id-2 {color: black;background-color: white;}#sk-container-id-2 pre{padding: 0;}#sk-container-id-2 div.sk-toggleable {background-color: white;}#sk-container-id-2 label.sk-toggleable__label {cursor: pointer;display: block;width: 100%;margin-bottom: 0;padding: 0.3em;box-sizing: border-box;text-align: center;}#sk-container-id-2 label.sk-toggleable__label-arrow:before {content: \"▸\";float: left;margin-right: 0.25em;color: #696969;}#sk-container-id-2 label.sk-toggleable__label-arrow:hover:before {color: black;}#sk-container-id-2 div.sk-estimator:hover label.sk-toggleable__label-arrow:before {color: black;}#sk-container-id-2 div.sk-toggleable__content {max-height: 0;max-width: 0;overflow: hidden;text-align: left;background-color: #f0f8ff;}#sk-container-id-2 div.sk-toggleable__content pre {margin: 0.2em;color: black;border-radius: 0.25em;background-color: #f0f8ff;}#sk-container-id-2 input.sk-toggleable__control:checked~div.sk-toggleable__content {max-height: 200px;max-width: 100%;overflow: auto;}#sk-container-id-2 input.sk-toggleable__control:checked~label.sk-toggleable__label-arrow:before {content: \"▾\";}#sk-container-id-2 div.sk-estimator input.sk-toggleable__control:checked~label.sk-toggleable__label {background-color: #d4ebff;}#sk-container-id-2 div.sk-label input.sk-toggleable__control:checked~label.sk-toggleable__label {background-color: #d4ebff;}#sk-container-id-2 input.sk-hidden--visually {border: 0;clip: rect(1px 1px 1px 1px);clip: rect(1px, 1px, 1px, 1px);height: 1px;margin: -1px;overflow: hidden;padding: 0;position: absolute;width: 1px;}#sk-container-id-2 div.sk-estimator {font-family: monospace;background-color: #f0f8ff;border: 1px dotted black;border-radius: 0.25em;box-sizing: border-box;margin-bottom: 0.5em;}#sk-container-id-2 div.sk-estimator:hover {background-color: #d4ebff;}#sk-container-id-2 div.sk-parallel-item::after {content: \"\";width: 100%;border-bottom: 1px solid gray;flex-grow: 1;}#sk-container-id-2 div.sk-label:hover label.sk-toggleable__label {background-color: #d4ebff;}#sk-container-id-2 div.sk-serial::before {content: \"\";position: absolute;border-left: 1px solid gray;box-sizing: border-box;top: 0;bottom: 0;left: 50%;z-index: 0;}#sk-container-id-2 div.sk-serial {display: flex;flex-direction: column;align-items: center;background-color: white;padding-right: 0.2em;padding-left: 0.2em;position: relative;}#sk-container-id-2 div.sk-item {position: relative;z-index: 1;}#sk-container-id-2 div.sk-parallel {display: flex;align-items: stretch;justify-content: center;background-color: white;position: relative;}#sk-container-id-2 div.sk-item::before, #sk-container-id-2 div.sk-parallel-item::before {content: \"\";position: absolute;border-left: 1px solid gray;box-sizing: border-box;top: 0;bottom: 0;left: 50%;z-index: -1;}#sk-container-id-2 div.sk-parallel-item {display: flex;flex-direction: column;z-index: 1;position: relative;background-color: white;}#sk-container-id-2 div.sk-parallel-item:first-child::after {align-self: flex-end;width: 50%;}#sk-container-id-2 div.sk-parallel-item:last-child::after {align-self: flex-start;width: 50%;}#sk-container-id-2 div.sk-parallel-item:only-child::after {width: 0;}#sk-container-id-2 div.sk-dashed-wrapped {border: 1px dashed gray;margin: 0 0.4em 0.5em 0.4em;box-sizing: border-box;padding-bottom: 0.4em;background-color: white;}#sk-container-id-2 div.sk-label label {font-family: monospace;font-weight: bold;display: inline-block;line-height: 1.2em;}#sk-container-id-2 div.sk-label-container {text-align: center;}#sk-container-id-2 div.sk-container {/* jupyter's `normalize.less` sets `[hidden] { display: none; }` but bootstrap.min.css set `[hidden] { display: none !important; }` so we also need the `!important` here to be able to override the default hidden behavior on the sphinx rendered scikit-learn.org. See: https://github.com/scikit-learn/scikit-learn/issues/21755 */display: inline-block !important;position: relative;}#sk-container-id-2 div.sk-text-repr-fallback {display: none;}</style><div id=\"sk-container-id-2\" class=\"sk-top-container\"><div class=\"sk-text-repr-fallback\"><pre>LinearRegression()</pre><b>In a Jupyter environment, please rerun this cell to show the HTML representation or trust the notebook. <br />On GitHub, the HTML representation is unable to render, please try loading this page with nbviewer.org.</b></div><div class=\"sk-container\" hidden><div class=\"sk-item\"><div class=\"sk-estimator sk-toggleable\"><input class=\"sk-toggleable__control sk-hidden--visually\" id=\"sk-estimator-id-2\" type=\"checkbox\" checked><label for=\"sk-estimator-id-2\" class=\"sk-toggleable__label sk-toggleable__label-arrow\">LinearRegression</label><div class=\"sk-toggleable__content\"><pre>LinearRegression()</pre></div></div></div></div></div>"
      ],
      "text/plain": [
       "LinearRegression()"
      ]
     },
     "execution_count": 23,
     "metadata": {},
     "output_type": "execute_result"
    }
   ],
   "source": [
    "model.fit(X_train, y_train)"
   ]
  },
  {
   "cell_type": "code",
   "execution_count": 24,
   "id": "3209017d",
   "metadata": {
    "scrolled": true
   },
   "outputs": [
    {
     "data": {
      "text/plain": [
       "array([61.32034882, 46.3712835 , 35.1099377 , ..., 18.37765154,\n",
       "       51.03711948, 25.67708066])"
      ]
     },
     "execution_count": 24,
     "metadata": {},
     "output_type": "execute_result"
    }
   ],
   "source": [
    "predict = model.predict(X_test )\n",
    "predict"
   ]
  },
  {
   "cell_type": "code",
   "execution_count": 25,
   "id": "86df84db",
   "metadata": {},
   "outputs": [
    {
     "data": {
      "text/plain": [
       "0.8622257908796616"
      ]
     },
     "execution_count": 25,
     "metadata": {},
     "output_type": "execute_result"
    }
   ],
   "source": [
    "r2_score(y_test, predict)"
   ]
  },
  {
   "cell_type": "code",
   "execution_count": 26,
   "id": "667371d3",
   "metadata": {},
   "outputs": [],
   "source": [
    "import pickle"
   ]
  },
  {
   "cell_type": "code",
   "execution_count": 27,
   "id": "3cc8bed4",
   "metadata": {},
   "outputs": [],
   "source": [
    "# filename = \"trained_model.pkl\"\n",
    "# with open(filename, 'wb') as file:\n",
    "#       pickle.dump(model, file)"
   ]
  },
  {
   "cell_type": "code",
   "execution_count": 28,
   "id": "b6bcf4c9",
   "metadata": {},
   "outputs": [
    {
     "data": {
      "text/plain": [
       "array([-5.16156380e-04, -4.76066413e+00,  6.06220216e+00])"
      ]
     },
     "execution_count": 28,
     "metadata": {},
     "output_type": "execute_result"
    }
   ],
   "source": [
    "model.coef_"
   ]
  },
  {
   "cell_type": "code",
   "execution_count": 29,
   "id": "0e07835a",
   "metadata": {},
   "outputs": [],
   "source": [
    "import numpy as np"
   ]
  },
  {
   "cell_type": "code",
   "execution_count": 30,
   "id": "6f0366a6",
   "metadata": {},
   "outputs": [],
   "source": [
    "import matplotlib.pyplot as plt"
   ]
  },
  {
   "cell_type": "code",
   "execution_count": null,
   "id": "3ffcee95",
   "metadata": {},
   "outputs": [],
   "source": []
  },
  {
   "cell_type": "code",
   "execution_count": 31,
   "id": "a1ac764a",
   "metadata": {},
   "outputs": [],
   "source": [
    "x = X_test.to_numpy()\n",
    "y = y_test.to_numpy()"
   ]
  },
  {
   "cell_type": "code",
   "execution_count": 32,
   "id": "9a5f9350",
   "metadata": {},
   "outputs": [],
   "source": [
    "x_axis = [a[2] for a in x]\n",
    "x_axis = x_axis[:100]\n",
    "len(x_axis)\n",
    "y = y[:100]"
   ]
  },
  {
   "cell_type": "code",
   "execution_count": 33,
   "id": "9b878d88",
   "metadata": {},
   "outputs": [
    {
     "data": {
      "image/png": "[encoded data removed]",
      "text/plain": [
       "<Figure size 432x288 with 1 Axes>"
      ]
     },
     "metadata": {
      "needs_background": "light"
     },
     "output_type": "display_data"
    }
   ],
   "source": [
    "# Plot outputs\n",
    "plt.scatter(x_axis, y, color=\"black\")\n",
    "y_pred = predict[:100]\n",
    "plt.scatter(x_axis, y_pred, color=\"blue\")\n",
    "\n",
    "\n",
    "\n",
    "plt.show()\n",
    "# on workload"
   ]
  },
  {
   "cell_type": "code",
   "execution_count": 34,
   "id": "6e54325c",
   "metadata": {},
   "outputs": [
    {
     "data": {
      "image/png": "[encoded data removed]",
      "text/plain": [
       "<Figure size 432x288 with 1 Axes>"
      ]
     },
     "metadata": {
      "needs_background": "light"
     },
     "output_type": "display_data"
    }
   ],
   "source": [
    "x_axis = [a[1] for a in x]\n",
    "x_axis = x_axis[:100]\n",
    "len(x_axis)\n",
    "y = y[:100]\n",
    "# Plot outputs\n",
    "plt.scatter(x_axis, y, color=\"black\")\n",
    "y_pred = predict[:100]\n",
    "plt.scatter(x_axis, y_pred, color=\"blue\")\n",
    "\n",
    "\n",
    "\n",
    "plt.show()\n",
    "# on team size"
   ]
  },
  {
   "cell_type": "code",
   "execution_count": 35,
   "id": "9d97d7d4",
   "metadata": {},
   "outputs": [
    {
     "data": {
      "image/png": "[encoded data removed]",
      "text/plain": [
       "<Figure size 432x288 with 1 Axes>"
      ]
     },
     "metadata": {
      "needs_background": "light"
     },
     "output_type": "display_data"
    }
   ],
   "source": [
    "x_axis = [a[0] for a in x]\n",
    "x_axis = x_axis[:100]\n",
    "len(x_axis)\n",
    "y = y[:100]\n",
    "# Plot outputs\n",
    "plt.scatter(x_axis, y, color=\"black\")\n",
    "y_pred = predict[:100]\n",
    "plt.scatter(x_axis, y_pred, color=\"blue\")\n",
    "\n",
    "\n",
    "\n",
    "plt.show()\n",
    "# on budget"
   ]
  },
  {
   "cell_type": "code",
   "execution_count": 36,
   "id": "cb85aa2e",
   "metadata": {},
   "outputs": [
    {
     "name": "stdout",
     "output_type": "stream",
     "text": [
      "[[52938, 2, 5], [44144, 1, 1], [43335, 6, 3], [20600, 8, 3], [47637, 9, 3], [10717, 5, 3], [19374, 2, 1], [15492, 1, 2], [18578, 3, 8], [27131, 3, 5], [48873, 9, 8], [35652, 5, 5], [14512, 6, 3], [24142, 3, 2], [17278, 4, 5], [47219, 3, 2], [22839, 7, 5], [12951, 10, 1], [13348, 3, 3], [16370, 4, 2], [22756, 8, 3], [25905, 8, 2], [26746, 8, 5], [12468, 10, 2], [21483, 4, 3], [25655, 4, 3], [26347, 5, 5], [31568, 10, 2], [18974, 7, 1], [59688, 5, 5], [21209, 5, 3], [55174, 4, 5], [54700, 9, 8], [35859, 3, 2], [38536, 5, 5], [13034, 1, 5], [39277, 8, 2], [47787, 3, 8], [31101, 8, 5], [24599, 4, 8], [45200, 4, 3], [15082, 3, 1], [59846, 8, 3], [35548, 7, 3], [46390, 1, 1], [19466, 8, 5], [51607, 2, 3], [49168, 2, 8], [40075, 7, 5], [39818, 6, 3], [42141, 2, 8], [39174, 7, 3], [26429, 8, 2], [30734, 1, 2], [25666, 8, 2], [27970, 10, 3], [31820, 5, 3], [40221, 1, 8], [30069, 6, 5], [41669, 9, 8], [28124, 8, 3], [31542, 9, 2], [43108, 6, 2], [21187, 2, 5], [55396, 5, 2], [38909, 8, 2], [44304, 6, 2], [11837, 6, 1], [23804, 7, 8], [24932, 8, 1], [58317, 3, 8], [11419, 2, 8], [40802, 9, 3], [16996, 9, 2], [20485, 2, 2], [46272, 9, 8], [53730, 1, 5], [14542, 3, 5], [29754, 6, 5], [16579, 5, 5], [58171, 4, 3], [33361, 7, 5], [27933, 10, 8], [24673, 9, 3], [17532, 5, 2], [16749, 9, 5], [48159, 2, 5], [12296, 10, 5], [40884, 5, 3], [29666, 7, 3], [39855, 3, 8], [34195, 6, 2], [34495, 3, 3], [39484, 4, 8], [12043, 8, 3], [33870, 10, 8], [10685, 10, 2], [10413, 8, 2], [19370, 8, 3], [13004, 3, 2]]\n",
      "[[61, 61, 61], [38, 38, 38], [30, 30, 30], [33, 33, 33], [26, 26, 26], [54, 54, 54], [49, 49, 49], [77, 77, 77], [107, 107, 107], [76, 76, 76], [42, 42, 42], [50, 50, 50], [42, 42, 42], [47, 47, 47], [74, 74, 74], [37, 37, 37], [47, 47, 47], [23, 23, 23], [63, 63, 63], [45, 45, 45], [36, 36, 36], [26, 26, 26], [43, 43, 43], [29, 29, 29], [53, 53, 53], [53, 53, 53], [58, 58, 58], [22, 22, 22], [26, 26, 26], [41, 41, 41], [47, 47, 47], [45, 45, 45], [45, 45, 45], [43, 43, 43], [53, 53, 53], [124, 124, 124], [24, 24, 24], [76, 76, 76], [39, 39, 39], [88, 88, 88], [42, 42, 42], [44, 44, 44], [25, 25, 25], [34, 34, 34], [37, 37, 37], [41, 41, 41], [45, 45, 45], [76, 76, 76], [45, 45, 45], [38, 38, 38], [94, 94, 94], [34, 34, 34], [30, 30, 30], [63, 63, 63], [31, 31, 31], [26, 26, 26], [42, 42, 42], [100, 100, 100], [45, 45, 45], [47, 47, 47], [31, 31, 31], [24, 24, 24], [32, 32, 32], [95, 95, 95], [27, 27, 27], [25, 25, 25], [26, 26, 26], [35, 35, 35], [62, 62, 62], [24, 24, 24], [66, 66, 66], [153, 153, 153], [29, 29, 29], [29, 29, 29], [54, 54, 54], [42, 42, 42], [61, 61, 61], [76, 76, 76], [51, 51, 51], [68, 68, 68], [38, 38, 38], [45, 45, 45], [45, 45, 45], [29, 29, 29], [41, 41, 41], [46, 46, 46], [66, 66, 66], [41, 41, 41], [37, 37, 37], [34, 34, 34], [80, 80, 80], [28, 28, 28], [47, 47, 47], [70, 70, 70], [37, 37, 37], [42, 42, 42], [29, 29, 29], [34, 34, 34], [37, 37, 37], [53, 53, 53]]\n",
      "100\n",
      "100\n"
     ]
    },
    {
     "data": {
      "image/png": "[encoded data removed]",
      "text/plain": [
       "<Figure size 432x288 with 1 Axes>"
      ]
     },
     "metadata": {
      "needs_background": "light"
     },
     "output_type": "display_data"
    }
   ],
   "source": [
    "x = X_test.to_numpy()\n",
    "y = y_test.to_numpy()\n",
    "\n",
    "x_axis = x[:100]\n",
    "y_axis = [[a,a,a] for a in y]\n",
    "y_axis = y_axis[:100]\n",
    "x_axis = x_axis.tolist()\n",
    "print(x_axis)\n",
    "print(y_axis)\n",
    "print(len(x_axis))\n",
    "print(len(y_axis))\n",
    "\n",
    "\n",
    "y_pred = [[a,a,a] for a in predict]\n",
    "y_pred = y_pred[:100]\n",
    "\n",
    "plt.scatter(x_axis, y_axis, color=\"black\")\n",
    "\n",
    "plt.scatter(x_axis, y_pred, color=\"blue\")\n",
    "\n",
    "\n",
    "plt.show()\n",
    "# all three"
   ]
  },
  {
   "cell_type": "code",
   "execution_count": 37,
   "id": "87f28cfc",
   "metadata": {},
   "outputs": [],
   "source": [
    "# filename = \"model_r2_86.pkl\"\n",
    "# with open(filename, 'wb') as file:\n",
    "#       pickle.dump(model, file)"
   ]
  },
  {
   "cell_type": "code",
   "execution_count": null,
   "id": "9d60c4e1",
   "metadata": {},
   "outputs": [],
   "source": []
  }
 ],
 "metadata": {
  "kernelspec": {
   "display_name": "Python 3 (ipykernel)",
   "language": "python",
   "name": "python3"
  },
  "language_info": {
   "codemirror_mode": {
    "name": "ipython",
    "version": 3
   },
   "file_extension": ".py",
   "mimetype": "text/x-python",
   "name": "python",
   "nbconvert_exporter": "python",
   "pygments_lexer": "ipython3",
   "version": "3.10.5"
  }
 },
 "nbformat": 4,
 "nbformat_minor": 5
}
